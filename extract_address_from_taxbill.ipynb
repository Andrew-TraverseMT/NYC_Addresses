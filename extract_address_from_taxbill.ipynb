{
  "nbformat": 4,
  "nbformat_minor": 0,
  "metadata": {
    "colab": {
      "provenance": [],
      "include_colab_link": true
    },
    "kernelspec": {
      "name": "python3",
      "display_name": "Python 3"
    },
    "language_info": {
      "name": "python"
    }
  },
  "cells": [
    {
      "cell_type": "markdown",
      "metadata": {
        "id": "view-in-github",
        "colab_type": "text"
      },
      "source": [
        "<a href=\"https://colab.research.google.com/github/Andrew-TraverseMT/NYC_Addresses/blob/main/extract_address_from_taxbill.ipynb\" target=\"_parent\"><img src=\"https://colab.research.google.com/assets/colab-badge.svg\" alt=\"Open In Colab\"/></a>"
      ]
    },
    {
      "cell_type": "markdown",
      "source": [
        "This notebook takes records from MapPluto and looks up parcel owner mailing addresses from property tax assessments using the BBL."
      ],
      "metadata": {
        "id": "xQ1Dw6pfZCJv"
      }
    },
    {
      "cell_type": "code",
      "source": [
        "!pip install pdfplumber"
      ],
      "metadata": {
        "colab": {
          "base_uri": "https://localhost:8080/"
        },
        "id": "7xEXs752KQRs",
        "outputId": "6686e714-329a-4068-ecac-2a80cb95f6a4"
      },
      "execution_count": 1,
      "outputs": [
        {
          "output_type": "stream",
          "name": "stdout",
          "text": [
            "Collecting pdfplumber\n",
            "  Downloading pdfplumber-0.11.5-py3-none-any.whl.metadata (42 kB)\n",
            "\u001b[?25l     \u001b[90m━━━━━━━━━━━━━━━━━━━━━━━━━━━━━━━━━━━━━━━━\u001b[0m \u001b[32m0.0/42.5 kB\u001b[0m \u001b[31m?\u001b[0m eta \u001b[36m-:--:--\u001b[0m\r\u001b[2K     \u001b[90m━━━━━━━━━━━━━━━━━━━━━━━━━━━━━━━━━━━━━━━━\u001b[0m \u001b[32m42.5/42.5 kB\u001b[0m \u001b[31m1.4 MB/s\u001b[0m eta \u001b[36m0:00:00\u001b[0m\n",
            "\u001b[?25hCollecting pdfminer.six==20231228 (from pdfplumber)\n",
            "  Downloading pdfminer.six-20231228-py3-none-any.whl.metadata (4.2 kB)\n",
            "Requirement already satisfied: Pillow>=9.1 in /usr/local/lib/python3.11/dist-packages (from pdfplumber) (11.1.0)\n",
            "Collecting pypdfium2>=4.18.0 (from pdfplumber)\n",
            "  Downloading pypdfium2-4.30.1-py3-none-manylinux_2_17_x86_64.manylinux2014_x86_64.whl.metadata (48 kB)\n",
            "\u001b[2K     \u001b[90m━━━━━━━━━━━━━━━━━━━━━━━━━━━━━━━━━━━━━━━━\u001b[0m \u001b[32m48.2/48.2 kB\u001b[0m \u001b[31m1.5 MB/s\u001b[0m eta \u001b[36m0:00:00\u001b[0m\n",
            "\u001b[?25hRequirement already satisfied: charset-normalizer>=2.0.0 in /usr/local/lib/python3.11/dist-packages (from pdfminer.six==20231228->pdfplumber) (3.4.1)\n",
            "Requirement already satisfied: cryptography>=36.0.0 in /usr/local/lib/python3.11/dist-packages (from pdfminer.six==20231228->pdfplumber) (43.0.3)\n",
            "Requirement already satisfied: cffi>=1.12 in /usr/local/lib/python3.11/dist-packages (from cryptography>=36.0.0->pdfminer.six==20231228->pdfplumber) (1.17.1)\n",
            "Requirement already satisfied: pycparser in /usr/local/lib/python3.11/dist-packages (from cffi>=1.12->cryptography>=36.0.0->pdfminer.six==20231228->pdfplumber) (2.22)\n",
            "Downloading pdfplumber-0.11.5-py3-none-any.whl (59 kB)\n",
            "\u001b[2K   \u001b[90m━━━━━━━━━━━━━━━━━━━━━━━━━━━━━━━━━━━━━━━━\u001b[0m \u001b[32m59.5/59.5 kB\u001b[0m \u001b[31m4.2 MB/s\u001b[0m eta \u001b[36m0:00:00\u001b[0m\n",
            "\u001b[?25hDownloading pdfminer.six-20231228-py3-none-any.whl (5.6 MB)\n",
            "\u001b[2K   \u001b[90m━━━━━━━━━━━━━━━━━━━━━━━━━━━━━━━━━━━━━━━━\u001b[0m \u001b[32m5.6/5.6 MB\u001b[0m \u001b[31m31.0 MB/s\u001b[0m eta \u001b[36m0:00:00\u001b[0m\n",
            "\u001b[?25hDownloading pypdfium2-4.30.1-py3-none-manylinux_2_17_x86_64.manylinux2014_x86_64.whl (2.9 MB)\n",
            "\u001b[2K   \u001b[90m━━━━━━━━━━━━━━━━━━━━━━━━━━━━━━━━━━━━━━━━\u001b[0m \u001b[32m2.9/2.9 MB\u001b[0m \u001b[31m30.4 MB/s\u001b[0m eta \u001b[36m0:00:00\u001b[0m\n",
            "\u001b[?25hInstalling collected packages: pypdfium2, pdfminer.six, pdfplumber\n",
            "Successfully installed pdfminer.six-20231228 pdfplumber-0.11.5 pypdfium2-4.30.1\n"
          ]
        }
      ]
    },
    {
      "cell_type": "code",
      "execution_count": 2,
      "metadata": {
        "id": "wWJ6U1OGKF_k"
      },
      "outputs": [],
      "source": [
        "import requests\n",
        "import pdfplumber\n",
        "import io\n",
        "import re\n",
        "import pandas as pd\n",
        "from time"
      ]
    },
    {
      "cell_type": "code",
      "source": [
        "\n",
        "def extract_all_text_from_url(url):\n",
        "    \"\"\"\n",
        "    Extracts all selectable text from each page of a PDF accessible via a URL, handling redirects.\n",
        "\n",
        "    Args:\n",
        "        url (str): The URL pointing to the PDF (or a redirect to the PDF).\n",
        "\n",
        "    Returns:\n",
        "        list: A list of strings, where each string contains the text from one page.\n",
        "              If no text is found on a page, a message is included for that page.\n",
        "              If an error occurs, a list with an error message is returned.\n",
        "    \"\"\"\n",
        "    try:\n",
        "        # Download the PDF from the URL, following redirects\n",
        "        response = requests.get(url)\n",
        "        response.raise_for_status()  # Raise an error for bad status codes\n",
        "\n",
        "        # Check if the response content is a PDF\n",
        "        content_type = response.headers.get('Content-Type', '')\n",
        "        if 'application/pdf' not in content_type:\n",
        "            return [\"Error: The URL does not point to a PDF file\"]\n",
        "\n",
        "        # Open the PDF from the response content using pdfplumber\n",
        "        with pdfplumber.open(io.BytesIO(response.content)) as pdf:\n",
        "            all_text = []\n",
        "            for page_number, page in enumerate(pdf.pages, start=1):\n",
        "                text = page.extract_text()\n",
        "                if text:\n",
        "                    # Clean the text by removing extra whitespace and empty lines\n",
        "                    cleaned_text = '\\n'.join(line.strip() for line in text.split('\\n') if line.strip())\n",
        "                    all_text.append(f\"Page {page_number}:\\n{cleaned_text}\")\n",
        "                else:\n",
        "                    all_text.append(f\"Page {page_number}: No selectable text found\")\n",
        "            return all_text\n",
        "\n",
        "    except requests.RequestException as e:\n",
        "        return [f\"Error downloading PDF: {e}\"]\n",
        "    except Exception as e:\n",
        "        return [f\"Error extracting text: {e}\"]\n",
        "\n",
        "# Example usage with your URL\n",
        "url = 'https://a836-edms.nyc.gov/dctm-rest/repositories/dofedmspts/StatementSearch?bbl=1000917502&stmtDate=20250215&stmtType=SOA'\n",
        "extracted_content = extract_all_text_from_url(url)\n",
        "\n",
        "# Print the extracted content for each page\n",
        "for page_content in extracted_content:\n",
        "    print(page_content)\n",
        "    print('-' * 50)  # Separator between pages"
      ],
      "metadata": {
        "colab": {
          "base_uri": "https://localhost:8080/"
        },
        "id": "mMKEf45fCIQq",
        "outputId": "844082ae-772c-4ca6-b16b-c0e1df9ed833"
      },
      "execution_count": 5,
      "outputs": [
        {
          "output_type": "stream",
          "name": "stdout",
          "text": [
            "Page 1:\n",
            "80117992502150100140001NYNP\n",
            "Property Tax Bill Quarterly Statement\n",
            "Activity through February 15, 2025\n",
            "Owner name: 111 FULTON ST CONDO\n",
            "How much do I owe?\n",
            "Property address: 111FULTON ST.\n",
            "Outstanding charges $0.00\n",
            "Borough Block Lot\n",
            "1 00091 7502 New charges $0.00\n",
            "Total amount due by April 1, 2025* $0.00\n",
            "* To avoid interest, you must pay byApril 15.\n",
            "Ways to pay:\n",
            "Most common way to pay Other ways to pay\n",
            "Online By Mail In Person\n",
            "Go to www.nyc.gov/citypay Remove the detachable Visit a DOF business\n",
            "or scan the QR code to the slip (below) and mail it center with a copy of\n",
            "right with your phone. Use with your payment. this bill. See\n",
            "your BBL (gray box, top left) Payment processed in www.nyc.gov/visitdof\n",
            "to search for your property. 7-10 business days. for locations. Open\n",
            "Most people pay in five Monday to Friday,\n",
            "minutes or less. 8:30 a.m. to 4:30 p.m.\n",
            "Wait times may vary.\n",
            "No fees when you pay from your checking\n",
            "account (e-check) or electronic wire transfer.\n",
            "1400.01 -ZB -40 -4 -0 -2 -10736\n",
            "Borough:1 Block:00091 Lot:7502\n",
            "Want faster payment processing\n",
            "Write this in your check's memo line: BBL1-00091-7502 and instant confirmation?\n",
            "Pay online at www.nyc.gov/citypay\n",
            "Statement of Account\n",
            "66 John Street\n",
            "Room 104 Mailroom\n",
            "Amount Due 04/01/25: $0.00\n",
            "New York, NY 10038\n",
            "Amount Enclosed:\n",
            "#801179925021501#\n",
            "111 FULTON ST. CONDO Make checks payable & mail payment to:\n",
            "ORSID REALTY CORP. NYC Department of Finance\n",
            "156 W.56TH ST.FL. 6\n",
            "PO Box 5536\n",
            "NEW YORKNY 10019-3911\n",
            "Binghamton NY 13902-5536\n",
            "5536 10009175020 0000000000 250401 1 2025 1\n",
            "--------------------------------------------------\n",
            "Page 2:\n",
            "February 15, 2025\n",
            "111 Fulton st Condo\n",
            "111Fulton St.\n",
            "1-00091-7502\n",
            "Page 2\n",
            "Billing Summary Amount\n",
            "Outstanding charges\n",
            "$0.00\n",
            "(Sum of unpaid balance and interest fees from billing periods)\n",
            "New charges\n",
            "$0.00\n",
            "(Sum of new property taxes and other charges-see below for details)\n",
            "AMOUNT DUE BYAPRIL 1, 2025 $0.00\n",
            "Messages for You:\n",
            "Visit www.nyc.gov/taxbill to updateyour mailing address,registerto receive property tax receiptsbyemail, orlearnabout\n",
            "the interest rate charged on late payments.\n",
            "Home banking payment instructions: Log into your bank or bill pay website and add \"NYC Department of Finance\" as\n",
            "the payee. Your account number is your BBL number: 1000917502. Our address is PO Box 5536, Binghamton, NY\n",
            "13902-5536.\n",
            "When you provide a check aspayment, you authorize us either to use information from your check to make a one-time\n",
            "electronic fund transfer from your account or to process the payment as a check transaction.\n",
            "--------------------------------------------------\n",
            "Page 3:\n",
            "February 15, 2025\n",
            "111 Fulton st Condo\n",
            "111Fulton St.\n",
            "1-00091-7502\n",
            "Page 3\n",
            "Additional Messages for You:\n",
            "If youownincome-producing property, youmust file aReal Property Income andExpense(RPIE) statementor aclaim of\n",
            "exclusion unlessyou areexempt by law.You must alsofile information aboutany ground or secondfloor storefront units\n",
            "on the premises, even if you are exempt from filing an RPIE statement. RPIE filers whose properties have an actual\n",
            "assessedvalue of $750,000 or greater will be required to file rent roll information. The deadline to file is June 2, 2025.\n",
            "Failure to file will result in penalties and interest, which will become a lien on your property if they go unpaid. Visit\n",
            "www.nyc.gov/rpie for more information.\n",
            "The BID assessment includes an adjustment due to a billing correction from a prior year. If you have any questions\n",
            "regarding BID charges, please contact the NYC Department of Small BusinessServices at (212) 513-6300. If you have\n",
            "questions about any non-BID-related charges, please contact the Department of Finance by calling 311 or (212)\n",
            "639-9675, or visit www.nyc.gov/contactdof.\n",
            "Compliance Notification\n",
            "Benchmarking Energy and Water Use: This property may be required to benchmark its energy and water\n",
            "consumption for calendar year 2024 by May 1, 2025, in accordance with NYC Benchmarking Law 84 of 2009 as\n",
            "amended. For a detailed explanation of the requirements, please visit www.nyc.gov/LL84.\n",
            "Disclosure of Energy Efficiency Scores and Grades: If your property is listed on the CBL for benchmarking\n",
            "compliance, it will be assigned an energy efficiency grade by the Department of Buildings per Local Law 33 of 2018\n",
            "as amended. For more information, visit www.nyc.gov/LL33.\n",
            "Energy Audits and Retro-Commissioning: This property may be required to complete Energy Audits and\n",
            "Retro-Commissioning in accordance with Local Law 87 of 2009 as amended. For more information, visit\n",
            "www.nyc.gov/LL87.\n",
            "Greenhouse Gas Emission Reductions: This property may besubject to Local Law97of 2019, asamended, which\n",
            "sets carbon emission limits or prescriptive requirements for buildings, with the first reports due in 2025. All buildings\n",
            "required to comply with Local Law 97 and Local Law 88 of 2009, as amended, must submit their reports by May 1,\n",
            "2025, to avoid penalties. For more information, visit www.nyc.gov/LL97. Is your building prepared? Contact NYC\n",
            "Accelerator for compliance support, financing options, and connections to vetted service providers. For more details,\n",
            "visit www.accelerator.nyc/help or call (212) 656-9202.\n",
            "Reminder: The building sustainability laws noted heretake place at the level of anindividual building (as designated\n",
            "by a building identification number, or BIN), even though the covered buildings are identified by tax lots (as\n",
            "designated by a borough-block-lot number, or BBL). For more information, visit\n",
            "www.nyc.gov/site/buildings/codes/sustainability.page.\n",
            "--------------------------------------------------\n"
          ]
        }
      ]
    },
    {
      "cell_type": "code",
      "source": [
        "# Read the data into a DataFrame\n",
        "df = pd.read_csv(\"/content/MapPluto_Subset_02202025.csv\")\n",
        "\n",
        "# Display results\n",
        "print(df[['BoroCode', 'Block', 'Lot', 'BBL']])\n",
        "\n",
        "bbl_list = df['BBL'].to_list()"
      ],
      "metadata": {
        "colab": {
          "base_uri": "https://localhost:8080/"
        },
        "id": "dwLPyNDQ7uUH",
        "outputId": "58ee5d5c-621f-4939-d9a7-bb41c2d0e58d"
      },
      "execution_count": 11,
      "outputs": [
        {
          "output_type": "stream",
          "name": "stdout",
          "text": [
            "     BoroCode  Block   Lot         BBL\n",
            "0           1     67    23  1000670023\n",
            "1           1     77    24  1000770024\n",
            "2           1     78     4  1000780004\n",
            "3           1     91  7502  1000917502\n",
            "4           1    173  7502  1001737502\n",
            "..        ...    ...   ...         ...\n",
            "292         5   7071    25  5070710025\n",
            "293         5   7465     1  5074650001\n",
            "294         5   7614    20  5076140020\n",
            "295         5   7626    10  5076260010\n",
            "296         5   7632     6  5076320006\n",
            "\n",
            "[297 rows x 4 columns]\n"
          ]
        }
      ]
    },
    {
      "cell_type": "code",
      "source": [
        "def download_and_extract_text(url, max_retries=3, initial_delay=2):\n",
        "    \"\"\"\n",
        "    Download a PDF from a URL and extract text lines from the first page, with retries on connection errors.\n",
        "\n",
        "    Args:\n",
        "        url (str): The URL of the PDF to download.\n",
        "        max_retries (int): Maximum number of retry attempts (default: 3).\n",
        "        initial_delay (int): Initial delay in seconds before retrying (default: 2).\n",
        "\n",
        "    Returns:\n",
        "        list: Extracted text lines if successful, or an error message string if failed.\n",
        "    \"\"\"\n",
        "    delay = initial_delay\n",
        "    for attempt in range(max_retries):\n",
        "        try:\n",
        "            # Attempt to download the PDF\n",
        "            response = requests.get(url)\n",
        "            response.raise_for_status()  # Raises an exception for HTTP errors (e.g., 404, 500)\n",
        "\n",
        "            # Verify the content is a PDF\n",
        "            if 'application/pdf' not in response.headers.get('Content-Type', ''):\n",
        "                raise ValueError(\"URL does not point to a PDF file\")\n",
        "\n",
        "            # Extract text from the first page of the PDF\n",
        "            pdf_file = io.BytesIO(response.content)\n",
        "            with pdfplumber.open(pdf_file) as pdf:\n",
        "                first_page = pdf.pages[0]\n",
        "                text = first_page.extract_text()\n",
        "                if not text:\n",
        "                    raise ValueError(\"No text extracted from the PDF\")\n",
        "                return text.split('\\n')\n",
        "\n",
        "        except requests.ConnectionError as e:\n",
        "            # Handle connection errors (e.g., IncompleteRead)\n",
        "            if attempt < max_retries - 1:  # If not the last attempt\n",
        "                print(f\"Connection error: {e}. Retrying in {delay} seconds...\")\n",
        "                time.sleep(delay)\n",
        "                delay *= 2  # Exponential backoff: double the delay each retry\n",
        "            else:\n",
        "                # All retries exhausted\n",
        "                return f\"Error downloading PDF after {max_retries} attempts: {e}\"\n",
        "\n",
        "        except requests.RequestException as e:\n",
        "            # Handle other request errors (e.g., timeouts, HTTP errors) without retrying\n",
        "            return f\"Error downloading PDF: {e}\"\n",
        "\n",
        "        except Exception as e:\n",
        "            # Handle errors during PDF processing (e.g., invalid PDF)\n",
        "            return f\"Error extracting text: {e}\"\n",
        "\n",
        "def extract_address(lines):\n",
        "    \"\"\"Extract the mailing address starting after the line with two '#' symbols.\"\"\"\n",
        "    hash_line_index = -1\n",
        "    for i, line in enumerate(lines):\n",
        "        if line.count('#') >= 2 and re.match(r'^#.*#$', line.strip()):\n",
        "            hash_line_index = i\n",
        "            break\n",
        "\n",
        "    if hash_line_index == -1 or hash_line_index + 1 >= len(lines):\n",
        "        return \"Address not found: No line with two '#' symbols or insufficient lines follow\"\n",
        "\n",
        "    address_lines = []\n",
        "    start_index = hash_line_index + 1\n",
        "\n",
        "    if start_index < len(lines):\n",
        "        line = lines[start_index].replace(\"Make checks payable & mail payment to:\", \"\").strip()\n",
        "        address_lines.append(line)\n",
        "\n",
        "    if start_index + 1 < len(lines):\n",
        "        line = lines[start_index + 1].replace(\"NYC Department of Finance\", \"\").strip()\n",
        "        address_lines.append(line)\n",
        "\n",
        "    if start_index + 2 < len(lines):\n",
        "        line = lines[start_index + 2].strip()\n",
        "        address_lines.append(line)\n",
        "\n",
        "    if start_index + 4 < len(lines):\n",
        "        line = lines[start_index + 4].replace(\"Binghamton NY 13902-5536\", \"\").strip()\n",
        "        address_lines.append(line)\n",
        "\n",
        "    return '\\n'.join(address_lines)\n",
        "\n",
        "# Dictionary to store results\n",
        "results = {}\n",
        "\n",
        "# Base URL template\n",
        "url_template = 'https://a836-edms.nyc.gov/dctm-rest/repositories/dofedmspts/StatementSearch?bbl={}&stmtDate=20250215&stmtType=SOA'"
      ],
      "metadata": {
        "id": "Pd4nOR92FTlo"
      },
      "execution_count": 12,
      "outputs": []
    },
    {
      "cell_type": "code",
      "source": [
        "# Loop through each BBL and process it\n",
        "for bbl in bbl_list:\n",
        "    try:\n",
        "        url = url_template.format(bbl)\n",
        "        text_lines = download_and_extract_text(url)\n",
        "        if isinstance(text_lines, list):\n",
        "            address = extract_address(text_lines)\n",
        "            results[bbl] = address\n",
        "        else:\n",
        "            results[bbl] = text_lines  # Store error message from download_and_extract_text\n",
        "    except Exception as e:\n",
        "        results[bbl] = f\"Error: {str(e)}\"\n",
        "\n",
        "# Print the results\n",
        "for bbl, address in results.items():\n",
        "    print(f\"BBL: {bbl}\\nAddress:\\n{address}\\n{'-'*40}\")"
      ],
      "metadata": {
        "id": "GC2Wp60f8Vqm"
      },
      "execution_count": null,
      "outputs": []
    },
    {
      "cell_type": "code",
      "source": [
        "# join results with data and output a new csv\n",
        "\n",
        "results_df = pd.DataFrame(list(results.items()), columns=['BBL', 'Address'])\n",
        "\n",
        "df['BBL'] = df['BBL'].astype(str)\n",
        "results_df['BBL'] = results_df['BBL'].astype(str)\n",
        "\n",
        "merged_df = pd.merge(df, results_df, on='BBL', how='left')\n",
        "\n",
        "merged_df.to_csv(\"MapPluto_Subset_with_Mailing_Addr.csv\")"
      ],
      "metadata": {
        "id": "xrDKEn6rXSzv"
      },
      "execution_count": null,
      "outputs": []
    }
  ]
}